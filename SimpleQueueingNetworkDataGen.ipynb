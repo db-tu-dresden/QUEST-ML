{
 "cells": [
  {
   "cell_type": "markdown",
   "metadata": {},
   "source": [
    "### === Analyzing a simple queueing network ==="
   ]
  },
  {
   "cell_type": "code",
   "execution_count": null,
   "metadata": {},
   "outputs": [],
   "source": [
    "# How to define proper classes\n",
    "# How to define proper functions"
   ]
  },
  {
   "cell_type": "markdown",
   "metadata": {},
   "source": [
    "### === Create a queueing system according to kendall's notation ===\n",
    "\n",
    "- https://de.wikipedia.org/wiki/Kendall-Notation"
   ]
  },
  {
   "cell_type": "markdown",
   "metadata": {},
   "source": [
    "In queueing theory, a discipline within the mathematical theory of probability, Kendall's notation (or sometimes Kendall notation) is the standard system used to describe and classify a queueing node.\n",
    "\n",
    "A/S/c/K/N/D\n",
    "\n",
    "A: Arrival process\n",
    "S: Service time distribution\n",
    "c: Number of serive channels\n",
    "K: Capacity of queue, or the maximum number of customers allowed in the queue.\n",
    "N: Size of calling source. The size of the population from which the customers come\n",
    "D: Service Discipline or Priority order that jobs in the queue, or waiting line, are served.\n",
    "\n",
    "Note: When the final three parameters are not specified (e.g. M/M/1 queue), it is assumed K = ∞, N = ∞ and D = FIFO\n"
   ]
  },
  {
   "cell_type": "markdown",
   "metadata": {},
   "source": [
    "### === Task: Design and simulate a (M/M/1/inf/inf/FIFO) queueing system ==="
   ]
  },
  {
   "cell_type": "markdown",
   "metadata": {},
   "source": [
    "### === Wraping into one funciton ==="
   ]
  },
  {
   "cell_type": "code",
   "execution_count": null,
   "metadata": {},
   "outputs": [],
   "source": [
    "import simpy\n",
    "import random\n",
    "import numpy as np\n",
    "import pandas as pd\n",
    "\n",
    "class Job():\n",
    "    def __init__(self, job_id: int, job_type: str, failure_rate: float):\n",
    "        self.id = job_id\n",
    "        self.log = {}\n",
    "        self.job_type = job_type\n",
    "        self.failure_rate = failure_rate\n",
    "\n",
    "    def __str__(self) -> str:\n",
    "        return f'{self.id}({self.job_type})'\n",
    "\n",
    "class Queue(simpy.Store): \n",
    "    def __init__(self, env, capacity=1, name='default', discipline='FIFO'):\n",
    "        super().__init__(env, capacity)\n",
    "        self.name = name\n",
    "        self.log = {}\n",
    "        self.state = {}\n",
    "        self.discipline = discipline # is default of store object\n",
    "\n",
    "def arrival_process(env, queue, systemLogs, distr='exponential', para=1.0):\n",
    "    rng = np.random.default_rng(seed=42)\n",
    "    job_id=0\n",
    "    while True:\n",
    "        job_id += 1\n",
    "        rand_type = rng.choice([\"A\", \"B\", \"C\"], p=[0.1,0.1,0.8])\n",
    "        ###################################\n",
    "        #ex_lambda=para\n",
    "        #t=random.expovariate(1/ex_lambda)\n",
    "        t = rng.exponential(scale=para, size=1)[0]\n",
    "        ###################################\n",
    "        yield env.timeout(t)\n",
    "        job = Job(job_id, rand_type, failure_rate=0.0)\n",
    "        #print(f'[Time: {\"%.3f\" % env.now}] - Job {job.id} has been assigned to be be next processed in {queue.name}.')\n",
    "        systemLogs.append({f'Job {job} has been assigned to be be next processed in {queue.name}.':env.now})\n",
    "        job.log.update({f'Assinged to {queue.name}':env.now})\n",
    "        yield queue.put(job)\n",
    "        #print(f'[Time: {\"%.3f\" % env.now}] - Job {job.id} has been put to queue of {queue.name} and is waiting for service.')\n",
    "        systemLogs.append({f'Job {job} has been put to queue of {queue.name} and is waiting for service.':env.now})\n",
    "        job.log.update({f'Waiting in queue of {queue.name}':env.now})\n",
    "        queue.log.update({f'Job {job} has accessed waiting queue in {queue.name}':env.now})\n",
    "\n",
    "\n",
    "def service_process(env, queue_process, systemLogs, completedJobs, queue_next: dict=None, distr='exponential', para=1.0):\n",
    "    rng = np.random.default_rng(seed=42)\n",
    "    while True:\n",
    "        job = yield queue_process.get()\n",
    "        #print(f'[Time: {\"%.3f\" % env.now}] - Job {job.id} has been removed from queue and is being serviced in {queue_process.name}.')\n",
    "        systemLogs.append({f'Job {job} has been removed from queue and is being serviced in {queue_process.name}.':env.now})\n",
    "        job.log.update({f'Start servicing in QS {queue_process.name}':env.now})\n",
    "        queue_process.log.update({f'Job {job} startet serving in {queue_process.name} ':env.now})\n",
    "        ###################################\n",
    "        #ex_lambda=para\n",
    "        #t=random.expovariate(1/ex_lambda)\n",
    "        #t = rng.exponential(scale=1.0, size=1)[0]\n",
    "        t = rng.normal(loc=para, scale=0.2, size=1)[0]\n",
    "        ###################################\n",
    "        yield env.timeout(t)\n",
    "        #print(f'[Time: {\"%.3f\" % env.now}] - Job {job.id} has finished being serviced in {queue_process.name}.')\n",
    "        systemLogs.append({f'Job {job} has finished being serviced in {queue_process.name}.':env.now})\n",
    "        job.log.update({f'Finish servicing in {queue_process.name}':env.now})\n",
    "        queue_process.log.update({f'Job {job} finished serving in {queue_process.name} ':env.now})\n",
    "        ### quality \n",
    "        qm = rng.uniform()\n",
    "        if job.failure_rate > qm:\n",
    "            systemLogs.append({f'Job {job} does not meet quality after {queue_process.name}.':env.now})\n",
    "            job.log.update({f'Failed quality check after {queue_process.name}':env.now})\n",
    "            queue_process.log.update({f'Job {job} failed quality check after {queue_process.name} ':env.now})\n",
    "            yield queue_process.put(job)\n",
    "            systemLogs.append({f'Job {job} has left {queue_process.name} and has been reinserted to waiting queue in {queue_process.name}.':env.now})\n",
    "            job.log.update({f'Transferred to {queue_process.name}':env.now})\n",
    "            queue_process.log.update({f'Job {job} has been reinsert into {queue_process.name} ':env.now})\n",
    "        if queue_next == None:\n",
    "            #print(f'[Time: {\"%.3f\" % env.now}] - Job {job.id} has been terminated from {queue_process.name}.')\n",
    "            systemLogs.append({f'Job {job} has been terminated from {queue_process.name}.':env.now})\n",
    "            job.log.update({f'Leaving {queue_process.name}':env.now})\n",
    "            queue_process.log.update({f'Job {job} left {queue_process.name} ':env.now})\n",
    "            completedJobs.append((env.now, job))\n",
    "        else:\n",
    "            #print(f'[Time: {\"%.3f\" % env.now}] - Job {job.id} is waiting after service in {queue_process.name} to access {queue_next.name}.')\n",
    "            systemLogs.append({f'Job {job} is waiting after service in {queue_process.name} to access {queue_next[job.job_type].name}.':env.now})\n",
    "            job.log.update({f'Completed at {queue_process.name}':env.now})\n",
    "            job.log.update({f'Waiting for access to {queue_next[job.job_type].name}':env.now})\n",
    "            yield queue_next[job.job_type].put(job)\n",
    "            #print(f'[Time: {\"%.3f\" % env.now}] - Job {job.id} has left {queue_process.name} and been put to waiting queue in {queue_next.name}.')\n",
    "            systemLogs.append({f'Job {job} has left {queue_process.name} and been put to waiting queue in {queue_next[job.job_type].name}.':env.now})\n",
    "            job.log.update({f'Transferred to {queue_next[job.job_type].name}':env.now})\n",
    "            queue_process.log.update({f'Job {job} left {queue_process.name} ':env.now})\n",
    "\n",
    "def logging_process(env, queue):\n",
    "    while True:\n",
    "        #queue.state.update({env.now:f'Number of jobs in queue {len(queue.items)}.'})\n",
    "        queue.state.update({round(env.now, 1): [str(i) for i in queue.items]})\n",
    "        #queue.state.update({env.now: queue.items.copy()})\n",
    "        yield env.timeout(0.1)\n",
    "            \n",
    "def run_mm1_experiment(runs):\n",
    "    # Simulation\n",
    "    completedJobs = []\n",
    "    systemLogs = []\n",
    "    env = simpy.Environment()\n",
    "    # Entities\n",
    "    queueingSystem_1 = Queue(env, capacity=np.inf, name='Queueing System 1')\n",
    "    queueingSystem_2 = Queue(env, capacity=np.inf, name='Queueing System 2')\n",
    "    queueingSystem_3 = Queue(env, capacity=np.inf, name='Queueing System 3')\n",
    "    queueingSystem_4 = Queue(env, capacity=np.inf, name='Queueing System 4')\n",
    "    queueingSystem_5 = Queue(env, capacity=np.inf, name='Queueing System 5')\n",
    "    queueingSystem_6 = Queue(env, capacity=np.inf, name='Queueing System 6')\n",
    "\n",
    "    # Ariival (system input) process\n",
    "    arrival = env.process(arrival_process(env, queueingSystem_1, systemLogs))\n",
    "    \n",
    "    # tool processes (and logging)\n",
    "    service1 = env.process(service_process(env, queueingSystem_1, systemLogs, completedJobs, queue_next = {'A': queueingSystem_2, 'B': queueingSystem_2, 'C': queueingSystem_5}))\n",
    "    logging1 = env.process(logging_process(env, queueingSystem_1))\n",
    "    \n",
    "    service2 = env.process(service_process(env, queueingSystem_2, systemLogs, completedJobs, queue_next = dict.fromkeys(['A', 'B'], queueingSystem_3)))\n",
    "    logging2 = env.process(logging_process(env, queueingSystem_2))\n",
    "    \n",
    "    service3 = env.process(service_process(env, queueingSystem_3, systemLogs, completedJobs, queue_next = dict.fromkeys(['A', 'B'], queueingSystem_4)))\n",
    "    logging3 = env.process(logging_process(env, queueingSystem_3))\n",
    "    \n",
    "    service4 = env.process(service_process(env, queueingSystem_4, systemLogs, completedJobs)) # system output\n",
    "    logging4 = env.process(logging_process(env, queueingSystem_4))\n",
    "    \n",
    "    service5 = env.process(service_process(env, queueingSystem_5, systemLogs, completedJobs, queue_next={'C': queueingSystem_6}))\n",
    "    logging5 = env.process(logging_process(env, queueingSystem_5))\n",
    "    \n",
    "    service6 = env.process(service_process(env, queueingSystem_6, systemLogs, completedJobs, queue_next={'C': queueingSystem_4}))\n",
    "    logging6 = env.process(logging_process(env, queueingSystem_6))\n",
    "\n",
    "    # Run\n",
    "    env.run(until=runs)\n",
    "    \n",
    "    results = (queueingSystem_1.state, queueingSystem_2.state, queueingSystem_3.state, queueingSystem_4.state, queueingSystem_5.state, queueingSystem_6.state)\n",
    "    return results, completedJobs, systemLogs"
   ]
  },
  {
   "cell_type": "code",
   "execution_count": null,
   "metadata": {},
   "outputs": [],
   "source": [
    "exp_res, completedJobs, systemLogs = run_mm1_experiment(runs=100)"
   ]
  },
  {
   "cell_type": "code",
   "execution_count": null,
   "metadata": {},
   "outputs": [],
   "source": [
    "exp_res[0]"
   ]
  },
  {
   "cell_type": "code",
   "execution_count": null,
   "metadata": {},
   "outputs": [],
   "source": [
    "systemLogs"
   ]
  },
  {
   "cell_type": "code",
   "execution_count": null,
   "metadata": {},
   "outputs": [],
   "source": [
    "import matplotlib.pyplot as plt"
   ]
  },
  {
   "cell_type": "code",
   "execution_count": null,
   "metadata": {},
   "outputs": [],
   "source": [
    "fig, axs = plt.subplots(figsize=(16,9), ncols=4, nrows=2)\n",
    "for res, ax in zip(exp_res, axs.ravel()):\n",
    "    #df = pd.DataFrame(res.items(), columns=['TimeStamp','Objects in Queue'])\n",
    "    ax.plot(res.keys(), [len(r) for r in res.values()])"
   ]
  },
  {
   "cell_type": "markdown",
   "metadata": {},
   "source": [
    "### === Results ===\n",
    "- Expectation from Literature: The occupancy (p) is defined as the average arrival rate (lambda) divided by the average service rate (mu). For a stable system the average service rate should always be higher than the average arrival rate. Otherwise the queues would rapidly race towards infinity. Thus p should always be less than one.\n",
    "- Hypothesis: Since we assume that mu=lambda=p=1, we expect an unsstable M/M/1-system where the avg queue lengh goes to infinity.\n",
    "- Evidence: see simulated experiment data in graph :) \n",
    "- Links:\n",
    "    - https://www.eventhelix.com/congestion-control/m-m-1/\n",
    "    - https://en.wikipedia.org/wiki/M/M/1_queue\n",
    "    - https://www.win.tue.nl/~iadan/que/h4.pdf"
   ]
  },
  {
   "cell_type": "markdown",
   "metadata": {},
   "source": [
    "### === Follow Up ===\n",
    "\n",
    "- Warum hängen die Trajektorien von der Art der Generatoren ab?\n",
    "- Welche random number generators sind die richtigen?"
   ]
  },
  {
   "cell_type": "markdown",
   "metadata": {},
   "source": []
  }
 ],
 "metadata": {
  "kernelspec": {
   "display_name": "Python 3 (ipykernel)",
   "language": "python",
   "name": "python3"
  },
  "language_info": {
   "codemirror_mode": {
    "name": "ipython",
    "version": 3
   },
   "file_extension": ".py",
   "mimetype": "text/x-python",
   "name": "python",
   "nbconvert_exporter": "python",
   "pygments_lexer": "ipython3",
   "version": "3.8.10"
  },
  "vscode": {
   "interpreter": {
    "hash": "339da6e9acb62b62e188fa846e60ffc50079b16f31ac1d8ea45667e1daf7003e"
   }
  }
 },
 "nbformat": 4,
 "nbformat_minor": 2
}
